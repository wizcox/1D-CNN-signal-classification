{
 "cells": [
  {
   "cell_type": "code",
   "execution_count": 2,
   "metadata": {},
   "outputs": [],
   "source": [
    "import numpy as np\n",
    "import pandas as pd\n",
    "import keras\n",
    "import itertools\n",
    "import matplotlib.pyplot as plt\n",
    "import tensorflow as tf\n",
    "from scipy import stats\n",
    "import keras_metrics as km\n",
    "from keras.models import Model\n",
    "from keras.models import load_model\n",
    "from keras import backend, layers, models, utils\n",
    "from keras.layers import Conv1D,MaxPooling1D,Dense,Dropout,Flatten,GlobalAveragePooling1D\n",
    "from keras.models import Sequential\n",
    "from keras.utils import np_utils\n",
    "from keras.layers import Reshape\n",
    "from keras.layers import Dense, Activation\n",
    "from keras.optimizers import RMSprop\n",
    "from sklearn import preprocessing\n",
    "from keras.wrappers.scikit_learn import KerasClassifier\n",
    "from sklearn.model_selection import train_test_split\n",
    "from sklearn.metrics import classification_report\n",
    "from sklearn.metrics import roc_auc_score\n",
    "from sklearn.model_selection import StratifiedKFold\n",
    "from sklearn.model_selection import KFold\n",
    "from sklearn.metrics import confusion_matrix\n",
    "from sklearn import preprocessing\n",
    "import warnings\n",
    "warnings.filterwarnings(\"ignore\")"
   ]
  },
  {
   "cell_type": "code",
   "execution_count": 166,
   "metadata": {},
   "outputs": [],
   "source": [
    "df = pd.read_csv('fossil1_filtered.csv')"
   ]
  },
  {
   "cell_type": "code",
   "execution_count": 167,
   "metadata": {},
   "outputs": [],
   "source": [
    "#applying max-min normalization \n",
    "min_max_scaler = preprocessing.MinMaxScaler()\n",
    "df_x = min_max_scaler.fit_transform(df[['x']])\n",
    "df_y = min_max_scaler.fit_transform(df[['y']])\n",
    "df_z = min_max_scaler.fit_transform(df[['z']])"
   ]
  },
  {
   "cell_type": "code",
   "execution_count": 168,
   "metadata": {},
   "outputs": [],
   "source": [
    "def segmentation(df, time, stride, tag):\n",
    "\n",
    "    # 3 features: x, y, z acceleration\n",
    "    features = 3\n",
    "\n",
    "    seg = []\n",
    "    labels = []\n",
    "    for i in range(0, len(df) - time, stride):\n",
    "        x_seg = df_x[i: i + time]\n",
    "        y_seg = df_y[i: i + time]\n",
    "        z_seg = df_z[i: i + time]\n",
    "        \n",
    "        # find the commonly used label in each segment\n",
    "        label = stats.mode(df[tag][i: i + time])[0][0]\n",
    "        \n",
    "        seg.append([x_seg, y_seg, z_seg])\n",
    "        labels.append(label)\n",
    "\n",
    "    # reshape the segments to a size of 'time'*'features' matrix, regardless of how many rows there are\n",
    "    reshape_seg = np.asarray(seg, dtype= np.float32).reshape(-1, time, features)\n",
    "    labels = np.array(labels)\n",
    "\n",
    "    return reshape_seg, labels\n",
    "\n",
    "x, y = segmentation(df,100,100,'label')"
   ]
  },
  {
   "cell_type": "code",
   "execution_count": 169,
   "metadata": {},
   "outputs": [],
   "source": [
    "#convert the labels into one-hot encoding\n",
    "encoder = preprocessing.LabelEncoder()\n",
    "y_encoded = encoder.fit_transform(y)\n",
    "y_onehot = np_utils.to_categorical(y_encoded)"
   ]
  },
  {
   "cell_type": "code",
   "execution_count": 170,
   "metadata": {},
   "outputs": [],
   "source": [
    "X_train, X_test, y_train, y_test = train_test_split(x, y_onehot, test_size = 0.4, random_state = 42)"
   ]
  },
  {
   "cell_type": "code",
   "execution_count": 171,
   "metadata": {},
   "outputs": [
    {
     "name": "stdout",
     "output_type": "stream",
     "text": [
      "Model: \"sequential_16\"\n",
      "_________________________________________________________________\n",
      "Layer (type)                 Output Shape              Param #   \n",
      "=================================================================\n",
      "conv1d_64 (Conv1D)           (None, 99, 64)            448       \n",
      "_________________________________________________________________\n",
      "conv1d_65 (Conv1D)           (None, 98, 64)            8256      \n",
      "_________________________________________________________________\n",
      "dropout_29 (Dropout)         (None, 98, 64)            0         \n",
      "_________________________________________________________________\n",
      "max_pooling1d_32 (MaxPooling (None, 49, 64)            0         \n",
      "_________________________________________________________________\n",
      "conv1d_66 (Conv1D)           (None, 48, 256)           33024     \n",
      "_________________________________________________________________\n",
      "conv1d_67 (Conv1D)           (None, 47, 256)           131328    \n",
      "_________________________________________________________________\n",
      "dropout_30 (Dropout)         (None, 47, 256)           0         \n",
      "_________________________________________________________________\n",
      "max_pooling1d_33 (MaxPooling (None, 23, 256)           0         \n",
      "_________________________________________________________________\n",
      "flatten_15 (Flatten)         (None, 5888)              0         \n",
      "_________________________________________________________________\n",
      "dropout_31 (Dropout)         (None, 5888)              0         \n",
      "_________________________________________________________________\n",
      "dense_27 (Dense)             (None, 256)               1507584   \n",
      "_________________________________________________________________\n",
      "dense_28 (Dense)             (None, 2)                 514       \n",
      "=================================================================\n",
      "Total params: 1,681,154\n",
      "Trainable params: 1,681,154\n",
      "Non-trainable params: 0\n",
      "_________________________________________________________________\n",
      "None\n"
     ]
    }
   ],
   "source": [
    "#build an 1d CNN\n",
    "model = Sequential()\n",
    "model.add(Conv1D(64, 2, activation='relu', input_shape=(100, 3)))\n",
    "model.add(Conv1D(64, 2, activation='relu'))\n",
    "model.add(Dropout(0.5))\n",
    "model.add(MaxPooling1D(2))\n",
    "model.add(Conv1D(256, 2, activation='relu'))\n",
    "model.add(Conv1D(256, 2, activation='relu'))\n",
    "model.add(Dropout(0.5))\n",
    "model.add(MaxPooling1D(2))\n",
    "model.add(Flatten())\n",
    "model.add(Dropout(0.5))\n",
    "model.add(Dense(256, activation='softmax'))\n",
    "model.add(Dense(2, activation='softmax'))\n",
    "print(model.summary())\n",
    "model.compile(loss='binary_crossentropy',\n",
    "                 optimizer='adam', metrics=['accuracy',km.binary_precision(), km.binary_recall()])"
   ]
  },
  {
   "cell_type": "code",
   "execution_count": 172,
   "metadata": {
    "scrolled": true
   },
   "outputs": [
    {
     "name": "stdout",
     "output_type": "stream",
     "text": [
      "Epoch 1/50\n",
      "2/2 [==============================] - 0s 110ms/step - loss: 0.6929 - accuracy: 0.5593 - precision: 0.5672 - recall: 1.0000 - val_loss: 0.6946 - val_accuracy: 0.4000 - val_precision: 0.4000 - val_recall: 1.0000\n",
      "Epoch 2/50\n",
      "2/2 [==============================] - 0s 21ms/step - loss: 0.6919 - accuracy: 0.5593 - precision: 0.5547 - recall: 1.0000 - val_loss: 0.6957 - val_accuracy: 0.4000 - val_precision: 0.4000 - val_recall: 1.0000\n",
      "Epoch 3/50\n",
      "2/2 [==============================] - 0s 22ms/step - loss: 0.6905 - accuracy: 0.5593 - precision: 0.5297 - recall: 1.0000 - val_loss: 0.6970 - val_accuracy: 0.4000 - val_precision: 0.4000 - val_recall: 1.0000\n",
      "Epoch 4/50\n",
      "2/2 [==============================] - 0s 19ms/step - loss: 0.6882 - accuracy: 0.5593 - precision: 0.5297 - recall: 1.0000 - val_loss: 0.6989 - val_accuracy: 0.4000 - val_precision: 0.4000 - val_recall: 1.0000\n",
      "Epoch 5/50\n",
      "2/2 [==============================] - 0s 24ms/step - loss: 0.6873 - accuracy: 0.5593 - precision: 0.5797 - recall: 1.0000 - val_loss: 0.7011 - val_accuracy: 0.4000 - val_precision: 0.4000 - val_recall: 1.0000\n",
      "Epoch 6/50\n",
      "2/2 [==============================] - 0s 22ms/step - loss: 0.6842 - accuracy: 0.5593 - precision: 0.5672 - recall: 1.0000 - val_loss: 0.7001 - val_accuracy: 0.4000 - val_precision: 0.4000 - val_recall: 1.0000\n",
      "Epoch 7/50\n",
      "2/2 [==============================] - 0s 25ms/step - loss: 0.6811 - accuracy: 0.5593 - precision: 0.6047 - recall: 1.0000 - val_loss: 0.6944 - val_accuracy: 0.4000 - val_precision: 0.4000 - val_recall: 1.0000\n",
      "Epoch 8/50\n",
      "2/2 [==============================] - 0s 23ms/step - loss: 0.6703 - accuracy: 0.5593 - precision: 0.5672 - recall: 1.0000 - val_loss: 0.6858 - val_accuracy: 0.4250 - val_precision: 0.4103 - val_recall: 1.0000\n",
      "Epoch 9/50\n",
      "2/2 [==============================] - 0s 22ms/step - loss: 0.6605 - accuracy: 0.7627 - precision: 0.7602 - recall: 1.0000 - val_loss: 0.6774 - val_accuracy: 0.8750 - val_precision: 0.7619 - val_recall: 1.0000\n",
      "Epoch 10/50\n",
      "2/2 [==============================] - 0s 20ms/step - loss: 0.6300 - accuracy: 0.9492 - precision: 0.9006 - recall: 1.0000 - val_loss: 0.6606 - val_accuracy: 0.8500 - val_precision: 1.0000 - val_recall: 0.6250\n",
      "Epoch 11/50\n",
      "2/2 [==============================] - 0s 20ms/step - loss: 0.6057 - accuracy: 0.9661 - precision: 0.9631 - recall: 0.9631 - val_loss: 0.6430 - val_accuracy: 0.8000 - val_precision: 1.0000 - val_recall: 0.5000\n",
      "Epoch 12/50\n",
      "2/2 [==============================] - 0s 21ms/step - loss: 0.5932 - accuracy: 0.9492 - precision: 1.0000 - recall: 0.9307 - val_loss: 0.6285 - val_accuracy: 0.8250 - val_precision: 0.9091 - val_recall: 0.6250\n",
      "Epoch 13/50\n",
      "2/2 [==============================] - 0s 22ms/step - loss: 0.5826 - accuracy: 0.9831 - precision: 0.9853 - recall: 1.0000 - val_loss: 0.6258 - val_accuracy: 0.8000 - val_precision: 1.0000 - val_recall: 0.5000\n",
      "Epoch 14/50\n",
      "2/2 [==============================] - 0s 23ms/step - loss: 0.5791 - accuracy: 0.9322 - precision: 1.0000 - recall: 0.8794 - val_loss: 0.6218 - val_accuracy: 0.8000 - val_precision: 1.0000 - val_recall: 0.5000\n",
      "Epoch 15/50\n",
      "2/2 [==============================] - 0s 21ms/step - loss: 0.5759 - accuracy: 0.9153 - precision: 0.9833 - recall: 0.8594 - val_loss: 0.6120 - val_accuracy: 0.8250 - val_precision: 0.8000 - val_recall: 0.7500\n",
      "Epoch 16/50\n",
      "2/2 [==============================] - 0s 20ms/step - loss: 0.5661 - accuracy: 0.9661 - precision: 0.9280 - recall: 1.0000 - val_loss: 0.6108 - val_accuracy: 0.8250 - val_precision: 1.0000 - val_recall: 0.5625\n",
      "Epoch 17/50\n",
      "2/2 [==============================] - 0s 21ms/step - loss: 0.5580 - accuracy: 0.9661 - precision: 1.0000 - recall: 0.9697 - val_loss: 0.6033 - val_accuracy: 0.8500 - val_precision: 0.8125 - val_recall: 0.8125\n",
      "Epoch 18/50\n",
      "2/2 [==============================] - 0s 25ms/step - loss: 0.5578 - accuracy: 0.9661 - precision: 0.9506 - recall: 1.0000 - val_loss: 0.6053 - val_accuracy: 0.8250 - val_precision: 1.0000 - val_recall: 0.5625\n",
      "Epoch 19/50\n",
      "2/2 [==============================] - 0s 23ms/step - loss: 0.5592 - accuracy: 0.9492 - precision: 1.0000 - recall: 0.9295 - val_loss: 0.6073 - val_accuracy: 0.8000 - val_precision: 1.0000 - val_recall: 0.5000\n",
      "Epoch 20/50\n",
      "2/2 [==============================] - 0s 22ms/step - loss: 0.5553 - accuracy: 0.9492 - precision: 0.9844 - recall: 0.9312 - val_loss: 0.6020 - val_accuracy: 0.8250 - val_precision: 1.0000 - val_recall: 0.5625\n",
      "Epoch 21/50\n",
      "2/2 [==============================] - 0s 25ms/step - loss: 0.5470 - accuracy: 0.9661 - precision: 1.0000 - recall: 0.9497 - val_loss: 0.5948 - val_accuracy: 0.9000 - val_precision: 1.0000 - val_recall: 0.7500\n",
      "Epoch 22/50\n",
      "2/2 [==============================] - 0s 21ms/step - loss: 0.5444 - accuracy: 0.9831 - precision: 0.9853 - recall: 1.0000 - val_loss: 0.6004 - val_accuracy: 0.8250 - val_precision: 1.0000 - val_recall: 0.5625\n",
      "Epoch 23/50\n",
      "2/2 [==============================] - 0s 21ms/step - loss: 0.5467 - accuracy: 0.9661 - precision: 1.0000 - recall: 0.9697 - val_loss: 0.6036 - val_accuracy: 0.8000 - val_precision: 1.0000 - val_recall: 0.5000\n",
      "Epoch 24/50\n",
      "2/2 [==============================] - 0s 22ms/step - loss: 0.5406 - accuracy: 0.9661 - precision: 1.0000 - recall: 0.9242 - val_loss: 0.5978 - val_accuracy: 0.8250 - val_precision: 1.0000 - val_recall: 0.5625\n",
      "Epoch 25/50\n",
      "2/2 [==============================] - 0s 20ms/step - loss: 0.5325 - accuracy: 1.0000 - precision: 1.0000 - recall: 1.0000 - val_loss: 0.5840 - val_accuracy: 0.8500 - val_precision: 0.8125 - val_recall: 0.8125\n",
      "Epoch 26/50\n",
      "2/2 [==============================] - 0s 21ms/step - loss: 0.5299 - accuracy: 1.0000 - precision: 1.0000 - recall: 1.0000 - val_loss: 0.5818 - val_accuracy: 0.8500 - val_precision: 0.8125 - val_recall: 0.8125\n",
      "Epoch 27/50\n",
      "2/2 [==============================] - 0s 20ms/step - loss: 0.5416 - accuracy: 0.9492 - precision: 0.8983 - recall: 1.0000 - val_loss: 0.5949 - val_accuracy: 0.8250 - val_precision: 1.0000 - val_recall: 0.5625\n",
      "Epoch 28/50\n",
      "2/2 [==============================] - 0s 20ms/step - loss: 0.5319 - accuracy: 0.9661 - precision: 1.0000 - recall: 0.9242 - val_loss: 0.5983 - val_accuracy: 0.8000 - val_precision: 1.0000 - val_recall: 0.5000\n",
      "Epoch 29/50\n",
      "2/2 [==============================] - 0s 21ms/step - loss: 0.5381 - accuracy: 0.9492 - precision: 1.0000 - recall: 0.9145 - val_loss: 0.5911 - val_accuracy: 0.8250 - val_precision: 1.0000 - val_recall: 0.5625\n",
      "Epoch 30/50\n",
      "2/2 [==============================] - 0s 21ms/step - loss: 0.5281 - accuracy: 0.9831 - precision: 1.0000 - recall: 0.9631 - val_loss: 0.5740 - val_accuracy: 0.8500 - val_precision: 0.8125 - val_recall: 0.8125\n",
      "Epoch 31/50\n",
      "2/2 [==============================] - 0s 22ms/step - loss: 0.5235 - accuracy: 0.9831 - precision: 0.9645 - recall: 1.0000 - val_loss: 0.5773 - val_accuracy: 0.9000 - val_precision: 1.0000 - val_recall: 0.7500\n",
      "Epoch 32/50\n",
      "2/2 [==============================] - 0s 22ms/step - loss: 0.5137 - accuracy: 1.0000 - precision: 1.0000 - recall: 1.0000 - val_loss: 0.5899 - val_accuracy: 0.8250 - val_precision: 1.0000 - val_recall: 0.5625\n",
      "Epoch 33/50\n",
      "2/2 [==============================] - 0s 21ms/step - loss: 0.5185 - accuracy: 0.9831 - precision: 1.0000 - recall: 0.9610 - val_loss: 0.5905 - val_accuracy: 0.8000 - val_precision: 1.0000 - val_recall: 0.5000\n",
      "Epoch 34/50\n",
      "2/2 [==============================] - 0s 21ms/step - loss: 0.5206 - accuracy: 0.9831 - precision: 1.0000 - recall: 0.9621 - val_loss: 0.5681 - val_accuracy: 0.9000 - val_precision: 1.0000 - val_recall: 0.7500\n",
      "Epoch 35/50\n",
      "2/2 [==============================] - 0s 21ms/step - loss: 0.5238 - accuracy: 0.9661 - precision: 0.9714 - recall: 1.0000 - val_loss: 0.5687 - val_accuracy: 0.8750 - val_precision: 0.8235 - val_recall: 0.8750\n",
      "Epoch 36/50\n",
      "2/2 [==============================] - 0s 22ms/step - loss: 0.5493 - accuracy: 0.8644 - precision: 0.7691 - recall: 1.0000 - val_loss: 0.5844 - val_accuracy: 0.8250 - val_precision: 1.0000 - val_recall: 0.5625\n",
      "Epoch 37/50\n",
      "2/2 [==============================] - 0s 24ms/step - loss: 0.5219 - accuracy: 0.9492 - precision: 1.0000 - recall: 0.9328 - val_loss: 0.5916 - val_accuracy: 0.8000 - val_precision: 1.0000 - val_recall: 0.5000\n"
     ]
    },
    {
     "name": "stdout",
     "output_type": "stream",
     "text": [
      "Epoch 38/50\n",
      "2/2 [==============================] - 0s 21ms/step - loss: 0.5299 - accuracy: 0.9322 - precision: 1.0000 - recall: 0.8939 - val_loss: 0.5912 - val_accuracy: 0.8000 - val_precision: 1.0000 - val_recall: 0.5000\n",
      "Epoch 39/50\n",
      "2/2 [==============================] - 0s 20ms/step - loss: 0.5325 - accuracy: 0.9153 - precision: 1.0000 - recall: 0.8190 - val_loss: 0.5903 - val_accuracy: 0.8000 - val_precision: 1.0000 - val_recall: 0.5000\n",
      "Epoch 40/50\n",
      "2/2 [==============================] - 0s 20ms/step - loss: 0.5317 - accuracy: 0.9153 - precision: 1.0000 - recall: 0.8617 - val_loss: 0.5892 - val_accuracy: 0.8000 - val_precision: 1.0000 - val_recall: 0.5000\n",
      "Epoch 41/50\n",
      "2/2 [==============================] - 0s 20ms/step - loss: 0.5248 - accuracy: 0.9322 - precision: 1.0000 - recall: 0.8524 - val_loss: 0.5822 - val_accuracy: 0.8250 - val_precision: 1.0000 - val_recall: 0.5625\n",
      "Epoch 42/50\n",
      "2/2 [==============================] - 0s 20ms/step - loss: 0.5083 - accuracy: 0.9661 - precision: 1.0000 - recall: 0.9242 - val_loss: 0.5563 - val_accuracy: 0.8750 - val_precision: 0.9231 - val_recall: 0.7500\n",
      "Epoch 43/50\n",
      "2/2 [==============================] - 0s 20ms/step - loss: 0.4974 - accuracy: 0.9831 - precision: 0.9653 - recall: 1.0000 - val_loss: 0.5618 - val_accuracy: 0.8500 - val_precision: 0.8125 - val_recall: 0.8125\n",
      "Epoch 44/50\n",
      "2/2 [==============================] - 0s 22ms/step - loss: 0.5187 - accuracy: 0.9322 - precision: 0.8690 - recall: 1.0000 - val_loss: 0.5537 - val_accuracy: 0.9000 - val_precision: 0.9286 - val_recall: 0.8125\n",
      "Epoch 45/50\n",
      "2/2 [==============================] - 0s 21ms/step - loss: 0.5062 - accuracy: 0.9661 - precision: 0.9610 - recall: 0.9848 - val_loss: 0.5637 - val_accuracy: 0.8500 - val_precision: 1.0000 - val_recall: 0.6250\n",
      "Epoch 46/50\n",
      "2/2 [==============================] - 0s 20ms/step - loss: 0.4917 - accuracy: 0.9831 - precision: 1.0000 - recall: 0.9631 - val_loss: 0.5701 - val_accuracy: 0.8250 - val_precision: 1.0000 - val_recall: 0.5625\n",
      "Epoch 47/50\n",
      "2/2 [==============================] - 0s 20ms/step - loss: 0.4990 - accuracy: 0.9661 - precision: 1.0000 - recall: 0.9262 - val_loss: 0.5727 - val_accuracy: 0.8250 - val_precision: 1.0000 - val_recall: 0.5625\n",
      "Epoch 48/50\n",
      "2/2 [==============================] - 0s 20ms/step - loss: 0.4997 - accuracy: 0.9661 - precision: 1.0000 - recall: 0.9480 - val_loss: 0.5671 - val_accuracy: 0.8250 - val_precision: 1.0000 - val_recall: 0.5625\n",
      "Epoch 49/50\n",
      "2/2 [==============================] - 0s 20ms/step - loss: 0.4992 - accuracy: 0.9661 - precision: 1.0000 - recall: 0.9221 - val_loss: 0.5473 - val_accuracy: 0.8750 - val_precision: 0.9231 - val_recall: 0.7500\n",
      "Epoch 50/50\n",
      "2/2 [==============================] - 0s 20ms/step - loss: 0.4873 - accuracy: 0.9831 - precision: 0.9853 - recall: 1.0000 - val_loss: 0.5463 - val_accuracy: 0.9000 - val_precision: 0.9286 - val_recall: 0.8125\n"
     ]
    }
   ],
   "source": [
    "history = model.fit(X_train,\n",
    "                    y_train,\n",
    "                    batch_size=40,\n",
    "                    epochs=50,\n",
    "                    validation_data=(X_test, y_test),\n",
    "                    verbose=1,\n",
    "                    )"
   ]
  },
  {
   "cell_type": "code",
   "execution_count": 175,
   "metadata": {},
   "outputs": [],
   "source": [
    "model.save('fossil1.h5')"
   ]
  },
  {
   "cell_type": "code",
   "execution_count": 176,
   "metadata": {},
   "outputs": [
    {
     "data": {
      "image/png": "[encoded data removed]",
      "text/plain": [
       "<Figure size 432x288 with 1 Axes>"
      ]
     },
     "metadata": {
      "needs_background": "light"
     },
     "output_type": "display_data"
    }
   ],
   "source": [
    "plt.figure(figsize=(6, 4))\n",
    "plt.plot(history.history['accuracy'], 'r', label='Accuracy of training data')\n",
    "plt.plot(history.history['val_accuracy'], 'b', label='Accuracy of validation data')\n",
    "plt.plot(history.history['loss'], 'r--', label='Loss of training data')\n",
    "plt.plot(history.history['val_loss'], 'b--', label='Loss of validation data')\n",
    "plt.title('Model Accuracy and Loss')\n",
    "plt.ylabel('Accuracy and Loss')\n",
    "plt.xlabel('Training Epoch')\n",
    "plt.ylim(0)\n",
    "plt.legend()\n",
    "plt.show()"
   ]
  },
  {
   "cell_type": "code",
   "execution_count": 178,
   "metadata": {},
   "outputs": [
    {
     "name": "stdout",
     "output_type": "stream",
     "text": [
      "              precision    recall  f1-score   support\n",
      "\n",
      "           0       1.00      0.97      0.98        33\n",
      "           1       0.96      1.00      0.98        26\n",
      "\n",
      "   micro avg       0.98      0.98      0.98        59\n",
      "   macro avg       0.98      0.98      0.98        59\n",
      "weighted avg       0.98      0.98      0.98        59\n",
      " samples avg       0.98      0.98      0.98        59\n",
      "\n"
     ]
    }
   ],
   "source": [
    "#load model and print confusion matrix\n",
    "model = load_model('fossil1.h5')\n",
    "\n",
    "y_pred_train = model.predict(X_train)\n",
    "max_y_pred_train = np.rint(y_pred_train)\n",
    "print(classification_report(y_train, max_y_pred_train))"
   ]
  },
  {
   "cell_type": "code",
   "execution_count": null,
   "metadata": {},
   "outputs": [],
   "source": []
  }
 ],
 "metadata": {
  "kernelspec": {
   "display_name": "Python 3",
   "language": "python",
   "name": "python3"
  },
  "language_info": {
   "codemirror_mode": {
    "name": "ipython",
    "version": 3
   },
   "file_extension": ".py",
   "mimetype": "text/x-python",
   "name": "python",
   "nbconvert_exporter": "python",
   "pygments_lexer": "ipython3",
   "version": "3.7.6"
  }
 },
 "nbformat": 4,
 "nbformat_minor": 4
}
